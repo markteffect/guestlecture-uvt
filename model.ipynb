{
 "cells": [
  {
   "cell_type": "markdown",
   "metadata": {},
   "source": [
    "## **Gibberish classifier**\n",
    "\n",
    "##### **1. Loading the data**"
   ]
  },
  {
   "cell_type": "code",
   "execution_count": null,
   "metadata": {},
   "outputs": [],
   "source": [
    "# Uncomment the following line to install dependencies\n",
    "# %pip install pandas numpy scikit-learn matplotlib\n",
    "\n",
    "import re\n",
    "from collections import Counter\n",
    "\n",
    "import pandas as pd\n",
    "import numpy as np\n",
    "import matplotlib.pyplot as plt\n",
    "from sklearn.model_selection import train_test_split\n",
    "from sklearn.ensemble import RandomForestClassifier\n",
    "from sklearn.metrics import (confusion_matrix, \n",
    "                             ConfusionMatrixDisplay, \n",
    "                             classification_report, \n",
    "                             roc_auc_score, \n",
    "                             roc_auc_score,)"
   ]
  },
  {
   "cell_type": "code",
   "execution_count": null,
   "metadata": {},
   "outputs": [],
   "source": [
    "# Get good data\n",
    "with open(\"good.txt\", encoding=\"utf-8\") as f:\n",
    "    good = f.read().splitlines()\n",
    "\n",
    "# Get bad data\n",
    "with open(\"bad.txt\", encoding=\"utf-8\") as f:\n",
    "    bad = f.read().splitlines()\n",
    "\n",
    "# Put them in a dataframe\n",
    "g = pd.DataFrame({\"X\": good, \"y\": [0 for _ in range(len(good))]})\n",
    "b = pd.DataFrame({\"X\": bad, \"y\": [1 for _ in range(len(bad))]})\n",
    "\n",
    "df = pd.concat([g, b])\n",
    "df"
   ]
  },
  {
   "cell_type": "markdown",
   "metadata": {},
   "source": [
    "##### **2. Preprocessing**"
   ]
  },
  {
   "cell_type": "code",
   "execution_count": null,
   "metadata": {},
   "outputs": [],
   "source": [
    "# In practice, you should experiment with different preprocessing steps\n",
    "# For instance, would it be beneficial to `normalize` the strings?\n",
    "# Let's only remove duplicates and strings with a length of 1 for now\n",
    "df.drop_duplicates(subset=[\"X\"], inplace=True)\n",
    "df.dropna(subset=[\"X\"], inplace=True)\n",
    "df = df[df[\"X\"].str.len() > 1]\n",
    "df"
   ]
  },
  {
   "cell_type": "markdown",
   "metadata": {},
   "source": [
    "##### **3. Feature Engineering**"
   ]
  },
  {
   "cell_type": "markdown",
   "metadata": {},
   "source": [
    "$$\n",
    "\\text{Entropy} = -\\sum_{i=1}^{n} p(i) \\cdot \\log_2(p(i))\n",
    "$$"
   ]
  },
  {
   "cell_type": "code",
   "execution_count": null,
   "metadata": {},
   "outputs": [],
   "source": [
    "# 3.1 Entropy\n",
    "\n",
    "def entropy(document: str) -> float:\n",
    "    char_counts = Counter(document)\n",
    "    total_chars = len(document)\n",
    "    entropy = 0.0\n",
    "    for count in char_counts.values():\n",
    "        probability = count / total_chars\n",
    "        entropy -= probability * np.log2(probability)\n",
    "    return entropy\n",
    "\n",
    "# Let's test our function\n",
    "print(\"The entropy for `Hello world` is:\", entropy(\"Hello world\"))\n",
    "print(\"The entropy for `xfdsefxfd` is:\", entropy(\"xfdfefxfd\"))"
   ]
  },
  {
   "cell_type": "code",
   "execution_count": null,
   "metadata": {},
   "outputs": [],
   "source": [
    "# 3.2 Proportion of vowels\n",
    "\n",
    "def proportion_vowel(document: str) -> float:\n",
    "    vowels = re.findall(\"[aeiouyáéíóúýàèìòùäëïöüÿ]\", document, re.IGNORECASE)\n",
    "    return len(vowels) / len(document)\n",
    "\n",
    "# Let's test our function\n",
    "print(\"The proportion of vowels for `Hello world` is:\", proportion_vowel(\"Hello world\"))\n",
    "print(\"The proportion of vowels for `xfdesefxfd` is:\", proportion_vowel(\"xfdfefxfd\"))"
   ]
  },
  {
   "cell_type": "code",
   "execution_count": null,
   "metadata": {},
   "outputs": [],
   "source": [
    "# 3.3 Proportion of non-alphabetic\n",
    "\n",
    "def proportion_non_alpha(document: str) -> float:\n",
    "    non_alpha = re.findall(\"[^ a-zA-Z]\", document)\n",
    "    return len(non_alpha) / len(document)\n",
    "\n",
    "print(\"The proportion of special characters for `Hello world` is:\", proportion_non_alpha(\"Hello world\"))\n",
    "print(\"The proportion of special characters for `xfdesefxfd` is:\", proportion_non_alpha(\"xfdfefxfd\"))"
   ]
  },
  {
   "cell_type": "markdown",
   "metadata": {},
   "source": [
    "$$\n",
    "\\text{Euclidean Distance} = \\sqrt{{(x_2 - x_1)^2 + (y_2 - y_1)^2}}\n",
    "$$\n"
   ]
  },
  {
   "cell_type": "code",
   "execution_count": null,
   "metadata": {},
   "outputs": [],
   "source": [
    "# 3.4 Keystroke distance\n",
    "\n",
    "KEYBOARD_GRAPH ={\n",
    "    \"q\": (1, 5),\n",
    "    \"w\": (3, 5),\n",
    "    \"e\": (5, 5),\n",
    "    \"r\": (7, 5),\n",
    "    \"t\": (9, 5),\n",
    "    \"y\": (11, 5),\n",
    "    \"u\": (13, 5),\n",
    "    \"i\": (15, 5),\n",
    "    \"o\": (17, 5),\n",
    "    \"p\": (19, 5),\n",
    "    \"a\": (1.5, 3),\n",
    "    \"s\": (3.5, 3),\n",
    "    \"d\": (5.5, 3),\n",
    "    \"f\": (7.5, 3),\n",
    "    \"g\": (9.5, 3),\n",
    "    \"h\": (11.5, 3),\n",
    "    \"j\": (13.5, 3),\n",
    "    \"k\": (15.5, 3),\n",
    "    \"l\": (17.5, 3),\n",
    "    \"z\": (2.5, 1),\n",
    "    \"x\": (4.5, 1),\n",
    "    \"c\": (6.5, 1),\n",
    "    \"v\": (8.5, 1),\n",
    "    \"b\": (10.5, 1),\n",
    "    \"n\": (12.5, 1),\n",
    "    \"m\": (14.5, 1),\n",
    "    \"1\": (0.5, 7),\n",
    "    \"2\": (2.5, 7),\n",
    "    \"3\": (4.5, 7),\n",
    "    \"4\": (6.5, 7),\n",
    "    \"5\": (8.5, 7),\n",
    "    \"6\": (10.5, 7),\n",
    "    \"7\": (12.5, 7),\n",
    "    \"8\": (14.5, 7),\n",
    "    \"9\": (16.5, 7),\n",
    "    \"0\": (18.5, 7)\n",
    "}\n",
    "\n",
    "VALID_KEYS = set(list(KEYBOARD_GRAPH.keys()))\n",
    "\n",
    "def keystroke_distance(document: str) -> float:\n",
    "    # get the coordinates for the input document\n",
    "    document = document.lower()\n",
    "    coordinates = [KEYBOARD_GRAPH[char] for char in document if char in VALID_KEYS]\n",
    "    num_coordinates = len(coordinates)\n",
    "\n",
    "    # calculate euclidean distance between every character\n",
    "    if num_coordinates > 1:\n",
    "        distances = [\n",
    "            np.sqrt((x2 - x1) ** 2 + (y2 - y1) ** 2)\n",
    "            for (x1, y1), (x2, y2) in zip(coordinates, coordinates[1:])\n",
    "        ]\n",
    "        return sum(distances) / (num_coordinates - 1)\n",
    "\n",
    "    return -1.0\n",
    "\n",
    "\n",
    "# Let's test our function\n",
    "print(\"The keystroke distance for `Hello world` is:\", keystroke_distance(\"Hello world\"))\n",
    "print(\"The keystroke distance for `xfdesefxfd` is:\", keystroke_distance(\"xfdfefxfd\"))"
   ]
  },
  {
   "cell_type": "markdown",
   "metadata": {},
   "source": [
    "##### **4. Create dataset**"
   ]
  },
  {
   "cell_type": "markdown",
   "metadata": {},
   "source": [
    "##### **5. Create a train- and a test dataset**"
   ]
  },
  {
   "cell_type": "code",
   "execution_count": null,
   "metadata": {},
   "outputs": [],
   "source": [
    "# Split into train and test\n",
    "X_train, X_test, y_train, y_test = train_test_split(df[\"X\"], df['y'], \n",
    "                                                    stratify=df['y'], \n",
    "                                                    test_size=0.2, \n",
    "                                                    random_state=42)\n",
    "X_train, y_train"
   ]
  },
  {
   "cell_type": "code",
   "execution_count": null,
   "metadata": {},
   "outputs": [],
   "source": [
    "\n",
    "def create_dataset(data):\n",
    "    dataset = pd.DataFrame()\n",
    "    dataset['length'] = [len(x) for x in data]\n",
    "    dataset['entropy'] = [entropy(x) for x in data]\n",
    "    dataset['vowels'] = [proportion_vowel(x) for x in data]\n",
    "    dataset['non_alpha'] = [proportion_non_alpha(x) for x in data]\n",
    "    dataset['distance'] = [keystroke_distance(x) for x in data]\n",
    "    return dataset\n",
    "\n",
    "X_train_1 = create_dataset(X_train)\n",
    "X_test_1 = create_dataset(X_test)\n",
    "\n",
    "X_train_1"
   ]
  },
  {
   "cell_type": "markdown",
   "metadata": {},
   "source": [
    "##### **6. Fit the model**"
   ]
  },
  {
   "cell_type": "code",
   "execution_count": null,
   "metadata": {},
   "outputs": [],
   "source": [
    "model = RandomForestClassifier(random_state = 7)\n",
    "model.fit(X_train_1, y_train)"
   ]
  },
  {
   "cell_type": "markdown",
   "metadata": {},
   "source": [
    "##### **7. Evaluate the model**"
   ]
  },
  {
   "cell_type": "code",
   "execution_count": null,
   "metadata": {},
   "outputs": [],
   "source": [
    "\n",
    "# Class predictions\n",
    "rf_predictions = model.predict(X_test_1)\n",
    "\n",
    "# Probabilities for each class\n",
    "rf_probs = model.predict_proba(X_test_1)[:, 1]\n",
    "\n",
    "# Calculate roc auc\n",
    "roc_value = roc_auc_score(y_test, rf_probs)\n",
    "print(\"ROC: \", roc_value)\n",
    "\n",
    "\n",
    "# Confusion matrix\n",
    "cm = confusion_matrix(y_test, rf_predictions, labels=model.classes_)\n",
    "disp = ConfusionMatrixDisplay(confusion_matrix=cm,\n",
    "                               display_labels=model.classes_)\n",
    "disp.plot()\n",
    "plt.show()\n",
    "\n",
    "\n",
    "# Classification report\n",
    "print(\"classification report:\\n\", \n",
    "classification_report(y_test, rf_predictions))\n",
    "\n",
    "\n",
    "# Feature importance\n",
    "importances = model.feature_importances_\n",
    "forest_importances = pd.Series(importances)\n",
    "\n",
    "fig, ax = plt.subplots()\n",
    "forest_importances.plot.bar(ax=ax)\n",
    "ax.set_xticklabels(X_train_1.columns)\n",
    "ax.set_title(\"Feature importance\")\n",
    "ax.set_ylabel(\"Mean decrease in impurity\")\n",
    "fig.tight_layout()"
   ]
  },
  {
   "cell_type": "markdown",
   "metadata": {},
   "source": [
    "##### **9. Make predictions using the model**"
   ]
  },
  {
   "cell_type": "code",
   "execution_count": null,
   "metadata": {},
   "outputs": [],
   "source": [
    "text = [\n",
    "    \"akvnzxkjcvhiu\",\n",
    "    \"ojafupavuihuiaevhu\",\n",
    "    \"zxvcmbnxjvhgxjvg\",\n",
    "    \"This is a good response! :)\",\n",
    "    \"F ofsowi7v97\",\n",
    "    \"slkjfseiuf sljefsefk jslekfjseklfjsel\"\n",
    "]\n",
    "\n",
    "data = create_dataset(text)\n",
    "\n",
    "model.predict(data).tolist()"
   ]
  },
  {
   "cell_type": "markdown",
   "metadata": {},
   "source": [
    "Let's compare it to our 'real' model"
   ]
  },
  {
   "cell_type": "code",
   "execution_count": null,
   "metadata": {},
   "outputs": [],
   "source": [
    "from gibberish import model as clf"
   ]
  },
  {
   "cell_type": "code",
   "execution_count": null,
   "metadata": {},
   "outputs": [],
   "source": [
    "proba = clf.predict(X_test.tolist())"
   ]
  },
  {
   "cell_type": "code",
   "execution_count": null,
   "metadata": {},
   "outputs": [],
   "source": [
    "roc_value = roc_auc_score(y_test, proba)\n",
    "print(\"ROC: \", roc_value)\n",
    "\n",
    "\n",
    "class_pred = [round(p) for p in proba]\n",
    "acc = classification_report(y_test.tolist(), class_pred)\n",
    "print(acc)\n",
    "\n",
    "cm = confusion_matrix(y_test, class_pred, labels=[0,1])\n",
    "disp = ConfusionMatrixDisplay(confusion_matrix=cm,\n",
    "                               display_labels=[0,1])\n",
    "disp.plot()\n",
    "plt.show()"
   ]
  },
  {
   "cell_type": "markdown",
   "metadata": {},
   "source": [
    "##### **10. Explainable machine learning using [SHAP](https://github.com/shap/shap) (extra)**"
   ]
  },
  {
   "cell_type": "code",
   "execution_count": null,
   "metadata": {},
   "outputs": [],
   "source": [
    "import shap\n",
    "shap.initjs()"
   ]
  },
  {
   "cell_type": "code",
   "execution_count": null,
   "metadata": {},
   "outputs": [],
   "source": [
    "sample = X_train_1.sample(1000)\n",
    "tree_explainer = shap.TreeExplainer(model)\n",
    "shap_values = tree_explainer.shap_values(sample)"
   ]
  },
  {
   "cell_type": "code",
   "execution_count": null,
   "metadata": {},
   "outputs": [],
   "source": [
    "# Plot the summary plot to show feature importance\n",
    "shap.summary_plot(shap_values[1], sample, plot_type=\"violin\")"
   ]
  },
  {
   "cell_type": "code",
   "execution_count": null,
   "metadata": {},
   "outputs": [],
   "source": [
    "test_strings = [\"2739847293472390482 09230423947 29347\"]\n",
    "print(test_strings, end=\"\\n\\n\")\n",
    "test_data = create_dataset(test_strings)\n",
    "print(test_data)\n",
    "shap_values = tree_explainer.shap_values(test_data)\n",
    "shap.force_plot(tree_explainer.expected_value[1], shap_values[1][0], test_data.iloc[0])"
   ]
  },
  {
   "cell_type": "code",
   "execution_count": null,
   "metadata": {},
   "outputs": [],
   "source": [
    "# the 'real' model\n",
    "clf.predict(test_strings)"
   ]
  }
 ],
 "metadata": {
  "kernelspec": {
   "display_name": "nlp-env",
   "language": "python",
   "name": "python3"
  },
  "language_info": {
   "codemirror_mode": {
    "name": "ipython",
    "version": 3
   },
   "file_extension": ".py",
   "mimetype": "text/x-python",
   "name": "python",
   "nbconvert_exporter": "python",
   "pygments_lexer": "ipython3",
   "version": "3.10.4"
  },
  "orig_nbformat": 4
 },
 "nbformat": 4,
 "nbformat_minor": 2
}
